{
 "cells": [
  {
   "cell_type": "markdown",
   "id": "0ddac483-9103-435b-b659-7fcd9ce59f60",
   "metadata": {},
   "source": [
    "# BIOS512 Assignment #4"
   ]
  },
  {
   "cell_type": "markdown",
   "id": "3cc32e0c-79d2-49e3-aa79-24cccfe873ea",
   "metadata": {},
   "source": [
    "🌬 For this assignment we are going to work with [Canada wind turbine](https://github.com/rfordatascience/tidytuesday/blob/master/data/2020/2020-10-27/readme.md) data from TidyTuesday. 💨"
   ]
  },
  {
   "cell_type": "markdown",
   "id": "359a4e8a-4e91-444a-a0c5-02f46c81719e",
   "metadata": {},
   "source": [
    "Use `read_csv` to load the data from the TidyTuesday GitHub repository. The project URL is can be found at [https://github.com/rfordatascience/tidytuesday/blob/master/data/2020/2020-10-27/](https://github.com/rfordatascience/tidytuesday/blob/master/data/2020/2020-10-27/)."
   ]
  },
  {
   "cell_type": "code",
   "execution_count": 1,
   "id": "051c1fc4-8979-4bfb-a761-85cb125e04a1",
   "metadata": {
    "tags": []
   },
   "outputs": [
    {
     "name": "stderr",
     "output_type": "stream",
     "text": [
      "Warning message:\n",
      "“Failed to locate timezone database”\n",
      "── \u001b[1mAttaching core tidyverse packages\u001b[22m ──────────────────────── tidyverse 2.0.0 ──\n",
      "\u001b[32m✔\u001b[39m \u001b[34mdplyr    \u001b[39m 1.1.3     \u001b[32m✔\u001b[39m \u001b[34mreadr    \u001b[39m 2.1.4\n",
      "\u001b[32m✔\u001b[39m \u001b[34mforcats  \u001b[39m 1.0.0     \u001b[32m✔\u001b[39m \u001b[34mstringr  \u001b[39m 1.5.0\n",
      "\u001b[32m✔\u001b[39m \u001b[34mggplot2  \u001b[39m 3.4.3     \u001b[32m✔\u001b[39m \u001b[34mtibble   \u001b[39m 3.2.1\n",
      "\u001b[32m✔\u001b[39m \u001b[34mlubridate\u001b[39m 1.9.2     \u001b[32m✔\u001b[39m \u001b[34mtidyr    \u001b[39m 1.3.0\n",
      "\u001b[32m✔\u001b[39m \u001b[34mpurrr    \u001b[39m 1.0.2     \n",
      "── \u001b[1mConflicts\u001b[22m ────────────────────────────────────────── tidyverse_conflicts() ──\n",
      "\u001b[31m✖\u001b[39m \u001b[34mdplyr\u001b[39m::\u001b[32mfilter()\u001b[39m masks \u001b[34mstats\u001b[39m::filter()\n",
      "\u001b[31m✖\u001b[39m \u001b[34mdplyr\u001b[39m::\u001b[32mlag()\u001b[39m    masks \u001b[34mstats\u001b[39m::lag()\n",
      "\u001b[36mℹ\u001b[39m Use the conflicted package (\u001b[3m\u001b[34m<http://conflicted.r-lib.org/>\u001b[39m\u001b[23m) to force all conflicts to become errors\n"
     ]
    }
   ],
   "source": [
    "library(tidyverse)"
   ]
  },
  {
   "cell_type": "code",
   "execution_count": 2,
   "id": "fd3262cf-5af8-4c29-af56-51717fe62323",
   "metadata": {
    "tags": []
   },
   "outputs": [
    {
     "name": "stderr",
     "output_type": "stream",
     "text": [
      "\u001b[1mRows: \u001b[22m\u001b[34m6698\u001b[39m \u001b[1mColumns: \u001b[22m\u001b[34m15\u001b[39m\n",
      "\u001b[36m──\u001b[39m \u001b[1mColumn specification\u001b[22m \u001b[36m────────────────────────────────────────────────────────\u001b[39m\n",
      "\u001b[1mDelimiter:\u001b[22m \",\"\n",
      "\u001b[31mchr\u001b[39m (8): province_territory, project_name, turbine_identifier, turbine_numbe...\n",
      "\u001b[32mdbl\u001b[39m (7): objectid, total_project_capacity_mw, turbine_rated_capacity_k_w, ro...\n",
      "\n",
      "\u001b[36mℹ\u001b[39m Use `spec()` to retrieve the full column specification for this data.\n",
      "\u001b[36mℹ\u001b[39m Specify the column types or set `show_col_types = FALSE` to quiet this message.\n"
     ]
    }
   ],
   "source": [
    "wind_turbine <- readr::read_csv('https://raw.githubusercontent.com/rfordatascience/tidytuesday/master/data/2020/2020-10-27/wind-turbine.csv')"
   ]
  },
  {
   "cell_type": "code",
   "execution_count": 3,
   "id": "e939695f-161f-4e20-a54a-d564af43587a",
   "metadata": {
    "tags": []
   },
   "outputs": [
    {
     "data": {
      "text/html": [
       "<table class=\"dataframe\">\n",
       "<caption>A tibble: 6 × 15</caption>\n",
       "<thead>\n",
       "\t<tr><th scope=col>objectid</th><th scope=col>province_territory</th><th scope=col>project_name</th><th scope=col>total_project_capacity_mw</th><th scope=col>turbine_identifier</th><th scope=col>turbine_number_in_project</th><th scope=col>turbine_rated_capacity_k_w</th><th scope=col>rotor_diameter_m</th><th scope=col>hub_height_m</th><th scope=col>manufacturer</th><th scope=col>model</th><th scope=col>commissioning_date</th><th scope=col>latitude</th><th scope=col>longitude</th><th scope=col>notes</th></tr>\n",
       "\t<tr><th scope=col>&lt;dbl&gt;</th><th scope=col>&lt;chr&gt;</th><th scope=col>&lt;chr&gt;</th><th scope=col>&lt;dbl&gt;</th><th scope=col>&lt;chr&gt;</th><th scope=col>&lt;chr&gt;</th><th scope=col>&lt;dbl&gt;</th><th scope=col>&lt;dbl&gt;</th><th scope=col>&lt;dbl&gt;</th><th scope=col>&lt;chr&gt;</th><th scope=col>&lt;chr&gt;</th><th scope=col>&lt;chr&gt;</th><th scope=col>&lt;dbl&gt;</th><th scope=col>&lt;dbl&gt;</th><th scope=col>&lt;chr&gt;</th></tr>\n",
       "</thead>\n",
       "<tbody>\n",
       "\t<tr><td>1</td><td>Alberta</td><td>Optimist Wind Energy  </td><td> 0.90</td><td>OWE1</td><td>1/2 </td><td>150</td><td>23</td><td>30</td><td>Bonus </td><td>AN 150/30</td><td>1993</td><td>49.52535</td><td>-114.0548</td><td>NA</td></tr>\n",
       "\t<tr><td>2</td><td>Alberta</td><td>Castle River Wind Farm</td><td>44.00</td><td>CRW1</td><td>1/60</td><td>600</td><td>44</td><td>40</td><td>Vestas</td><td>V44/600  </td><td>1997</td><td>49.51264</td><td>-114.0357</td><td>NA</td></tr>\n",
       "\t<tr><td>3</td><td>Alberta</td><td>Waterton Wind Turbines</td><td> 3.78</td><td>WWT1</td><td>1/6 </td><td>600</td><td>44</td><td>50</td><td>Vestas</td><td>V44/600  </td><td>1998</td><td>49.23307</td><td>-113.6549</td><td>NA</td></tr>\n",
       "\t<tr><td>4</td><td>Alberta</td><td>Waterton Wind Turbines</td><td> 3.78</td><td>WWT2</td><td>2/6 </td><td>600</td><td>44</td><td>50</td><td>Vestas</td><td>V44/600  </td><td>1998</td><td>49.23303</td><td>-113.6302</td><td>NA</td></tr>\n",
       "\t<tr><td>5</td><td>Alberta</td><td>Waterton Wind Turbines</td><td> 3.78</td><td>WWT3</td><td>3/6 </td><td>600</td><td>44</td><td>50</td><td>Vestas</td><td>V44/600  </td><td>1998</td><td>49.21755</td><td>-113.6802</td><td>NA</td></tr>\n",
       "\t<tr><td>6</td><td>Alberta</td><td>Waterton Wind Turbines</td><td> 3.78</td><td>WWT4</td><td>4/6 </td><td>660</td><td>47</td><td>50</td><td>Vestas</td><td>V47/660  </td><td>2000</td><td>49.21773</td><td>-113.6579</td><td>NA</td></tr>\n",
       "</tbody>\n",
       "</table>\n"
      ],
      "text/latex": [
       "A tibble: 6 × 15\n",
       "\\begin{tabular}{lllllllllllllll}\n",
       " objectid & province\\_territory & project\\_name & total\\_project\\_capacity\\_mw & turbine\\_identifier & turbine\\_number\\_in\\_project & turbine\\_rated\\_capacity\\_k\\_w & rotor\\_diameter\\_m & hub\\_height\\_m & manufacturer & model & commissioning\\_date & latitude & longitude & notes\\\\\n",
       " <dbl> & <chr> & <chr> & <dbl> & <chr> & <chr> & <dbl> & <dbl> & <dbl> & <chr> & <chr> & <chr> & <dbl> & <dbl> & <chr>\\\\\n",
       "\\hline\n",
       "\t 1 & Alberta & Optimist Wind Energy   &  0.90 & OWE1 & 1/2  & 150 & 23 & 30 & Bonus  & AN 150/30 & 1993 & 49.52535 & -114.0548 & NA\\\\\n",
       "\t 2 & Alberta & Castle River Wind Farm & 44.00 & CRW1 & 1/60 & 600 & 44 & 40 & Vestas & V44/600   & 1997 & 49.51264 & -114.0357 & NA\\\\\n",
       "\t 3 & Alberta & Waterton Wind Turbines &  3.78 & WWT1 & 1/6  & 600 & 44 & 50 & Vestas & V44/600   & 1998 & 49.23307 & -113.6549 & NA\\\\\n",
       "\t 4 & Alberta & Waterton Wind Turbines &  3.78 & WWT2 & 2/6  & 600 & 44 & 50 & Vestas & V44/600   & 1998 & 49.23303 & -113.6302 & NA\\\\\n",
       "\t 5 & Alberta & Waterton Wind Turbines &  3.78 & WWT3 & 3/6  & 600 & 44 & 50 & Vestas & V44/600   & 1998 & 49.21755 & -113.6802 & NA\\\\\n",
       "\t 6 & Alberta & Waterton Wind Turbines &  3.78 & WWT4 & 4/6  & 660 & 47 & 50 & Vestas & V47/660   & 2000 & 49.21773 & -113.6579 & NA\\\\\n",
       "\\end{tabular}\n"
      ],
      "text/markdown": [
       "\n",
       "A tibble: 6 × 15\n",
       "\n",
       "| objectid &lt;dbl&gt; | province_territory &lt;chr&gt; | project_name &lt;chr&gt; | total_project_capacity_mw &lt;dbl&gt; | turbine_identifier &lt;chr&gt; | turbine_number_in_project &lt;chr&gt; | turbine_rated_capacity_k_w &lt;dbl&gt; | rotor_diameter_m &lt;dbl&gt; | hub_height_m &lt;dbl&gt; | manufacturer &lt;chr&gt; | model &lt;chr&gt; | commissioning_date &lt;chr&gt; | latitude &lt;dbl&gt; | longitude &lt;dbl&gt; | notes &lt;chr&gt; |\n",
       "|---|---|---|---|---|---|---|---|---|---|---|---|---|---|---|\n",
       "| 1 | Alberta | Optimist Wind Energy   |  0.90 | OWE1 | 1/2  | 150 | 23 | 30 | Bonus  | AN 150/30 | 1993 | 49.52535 | -114.0548 | NA |\n",
       "| 2 | Alberta | Castle River Wind Farm | 44.00 | CRW1 | 1/60 | 600 | 44 | 40 | Vestas | V44/600   | 1997 | 49.51264 | -114.0357 | NA |\n",
       "| 3 | Alberta | Waterton Wind Turbines |  3.78 | WWT1 | 1/6  | 600 | 44 | 50 | Vestas | V44/600   | 1998 | 49.23307 | -113.6549 | NA |\n",
       "| 4 | Alberta | Waterton Wind Turbines |  3.78 | WWT2 | 2/6  | 600 | 44 | 50 | Vestas | V44/600   | 1998 | 49.23303 | -113.6302 | NA |\n",
       "| 5 | Alberta | Waterton Wind Turbines |  3.78 | WWT3 | 3/6  | 600 | 44 | 50 | Vestas | V44/600   | 1998 | 49.21755 | -113.6802 | NA |\n",
       "| 6 | Alberta | Waterton Wind Turbines |  3.78 | WWT4 | 4/6  | 660 | 47 | 50 | Vestas | V47/660   | 2000 | 49.21773 | -113.6579 | NA |\n",
       "\n"
      ],
      "text/plain": [
       "  objectid province_territory project_name           total_project_capacity_mw\n",
       "1 1        Alberta            Optimist Wind Energy    0.90                    \n",
       "2 2        Alberta            Castle River Wind Farm 44.00                    \n",
       "3 3        Alberta            Waterton Wind Turbines  3.78                    \n",
       "4 4        Alberta            Waterton Wind Turbines  3.78                    \n",
       "5 5        Alberta            Waterton Wind Turbines  3.78                    \n",
       "6 6        Alberta            Waterton Wind Turbines  3.78                    \n",
       "  turbine_identifier turbine_number_in_project turbine_rated_capacity_k_w\n",
       "1 OWE1               1/2                       150                       \n",
       "2 CRW1               1/60                      600                       \n",
       "3 WWT1               1/6                       600                       \n",
       "4 WWT2               2/6                       600                       \n",
       "5 WWT3               3/6                       600                       \n",
       "6 WWT4               4/6                       660                       \n",
       "  rotor_diameter_m hub_height_m manufacturer model     commissioning_date\n",
       "1 23               30           Bonus        AN 150/30 1993              \n",
       "2 44               40           Vestas       V44/600   1997              \n",
       "3 44               50           Vestas       V44/600   1998              \n",
       "4 44               50           Vestas       V44/600   1998              \n",
       "5 44               50           Vestas       V44/600   1998              \n",
       "6 47               50           Vestas       V47/660   2000              \n",
       "  latitude longitude notes\n",
       "1 49.52535 -114.0548 NA   \n",
       "2 49.51264 -114.0357 NA   \n",
       "3 49.23307 -113.6549 NA   \n",
       "4 49.23303 -113.6302 NA   \n",
       "5 49.21755 -113.6802 NA   \n",
       "6 49.21773 -113.6579 NA   "
      ]
     },
     "metadata": {},
     "output_type": "display_data"
    }
   ],
   "source": [
    "wind_turbine |> head()"
   ]
  },
  {
   "cell_type": "markdown",
   "id": "69a2e2c8-6cac-4f20-81ab-c48eb344bf0e",
   "metadata": {},
   "source": [
    "Each row in the table represents a single turbine."
   ]
  },
  {
   "cell_type": "markdown",
   "id": "4d9074db-0b35-4582-a9ef-1b3db5e883ba",
   "metadata": {},
   "source": [
    "Make a bar chart 📊 **sorted by frequency** of turbine count per province territory. (Hint: `fct_infreq` will sort your factor levels by frequency for subsequent plotting)"
   ]
  },
  {
   "cell_type": "code",
   "execution_count": 11,
   "id": "ab7785c3-6077-4708-a1d3-151044c63804",
   "metadata": {
    "tags": []
   },
   "outputs": [],
   "source": [
    "wind_turbine$province_territory <- fct_infreq(wind_turbine$province_territory)"
   ]
  },
  {
   "cell_type": "code",
   "execution_count": 16,
   "id": "27fb59e3-a024-4eb1-bd15-b49aa1de8575",
   "metadata": {
    "tags": []
   },
   "outputs": [
    {
     "data": {
      "image/png": "[encoded data removed]",
      "text/plain": [
       "plot without title"
      ]
     },
     "metadata": {
      "image/png": {
       "height": 420,
       "width": 420
      }
     },
     "output_type": "display_data"
    }
   ],
   "source": [
    "ggplot(wind_turbine, aes(x = province_territory)) +\n",
    "  geom_bar() +\n",
    "  geom_text(stat = \"count\", aes(label = ..count..), vjust = -0.5) +\n",
    "  labs(title = \"Turbine Count per Province Territory\",\n",
    "       x = \"Province Territory\",\n",
    "       y = \"Turbine Count\") +\n",
    "  theme(axis.text.x = element_text(angle = 45, hjust = 1))"
   ]
  },
  {
   "cell_type": "markdown",
   "id": "c9c011e1-342a-4ac2-a37d-27f6854a9f13",
   "metadata": {},
   "source": [
    "Make a bar chart **sorted by frequency** of turbine count per manufacturer. **Group the low frequency manufacturers into an `Other` category**.\n",
    "\n",
    "**Bonus:** Can you force the `Other` category to be the last bar? "
   ]
  },
  {
   "cell_type": "code",
   "execution_count": 18,
   "id": "7003026c-f685-4baf-9470-c559f702cc02",
   "metadata": {
    "tags": []
   },
   "outputs": [],
   "source": [
    "wind_turbine$manufacturer <- fct_infreq(wind_turbine$manufacturer)"
   ]
  },
  {
   "cell_type": "code",
   "execution_count": 20,
   "id": "fad5af70-74b3-478c-8980-759d6f0b05f6",
   "metadata": {
    "tags": []
   },
   "outputs": [],
   "source": [
    "wind_turbine$manufacturer <- fct_lump(wind_turbine$manufacturer, n = 5, other_level = \"Other\")"
   ]
  },
  {
   "cell_type": "code",
   "execution_count": 25,
   "id": "24a9d379-858b-4e73-813e-947a8b2cd2a0",
   "metadata": {
    "tags": []
   },
   "outputs": [
    {
     "data": {
      "image/png": "[encoded data removed]",
      "text/plain": [
       "plot without title"
      ]
     },
     "metadata": {
      "image/png": {
       "height": 420,
       "width": 420
      }
     },
     "output_type": "display_data"
    }
   ],
   "source": [
    "ggplot(wind_turbine, aes(x = manufacturer)) +\n",
    "  geom_bar() +\n",
    "  geom_text(stat = \"count\", aes(label = ..count..), vjust = -0.5) + \n",
    "  labs(title = \"Turbine Count per Manufacturer\",\n",
    "       x = \"Manufacturer\",\n",
    "       y = \"Turbine Count\") +\n",
    "  theme_minimal()"
   ]
  }
 ],
 "metadata": {
  "kernelspec": {
   "display_name": "bios512:R",
   "language": "R",
   "name": "conda-env-bios512-r"
  },
  "language_info": {
   "codemirror_mode": "r",
   "file_extension": ".r",
   "mimetype": "text/x-r-source",
   "name": "R",
   "pygments_lexer": "r",
   "version": "4.3.1"
  }
 },
 "nbformat": 4,
 "nbformat_minor": 5
}
